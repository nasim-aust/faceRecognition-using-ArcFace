{
  "nbformat": 4,
  "nbformat_minor": 0,
  "metadata": {
    "colab": {
      "name": "arc_face.ipynb",
      "provenance": [],
      "include_colab_link": true
    },
    "kernelspec": {
      "name": "python3",
      "display_name": "Python 3"
    },
    "accelerator": "GPU"
  },
  "cells": [
    {
      "cell_type": "markdown",
      "metadata": {
        "id": "view-in-github",
        "colab_type": "text"
      },
      "source": [
        "<a href=\"https://colab.research.google.com/github/nasim-aust/faceRecognition-using-ArcFace/blob/master/arc_face_colab.ipynb\" target=\"_parent\"><img src=\"https://colab.research.google.com/assets/colab-badge.svg\" alt=\"Open In Colab\"/></a>"
      ]
    },
    {
      "cell_type": "code",
      "metadata": {
        "id": "5WojS6C-q0-f",
        "colab_type": "code",
        "outputId": "e45d5fde-6c93-42bc-b590-aa7c9e6d6a40",
        "colab": {
          "base_uri": "https://localhost:8080/",
          "height": 122
        }
      },
      "source": [
        "from google.colab import drive\n",
        "drive.mount('/content/gdrive')"
      ],
      "execution_count": 0,
      "outputs": [
        {
          "output_type": "stream",
          "text": [
            "Go to this URL in a browser: https://accounts.google.com/o/oauth2/auth?client_id=947318989803-6bn6qk8qdgf4n4g3pfee6491hc0brc4i.apps.googleusercontent.com&redirect_uri=urn%3Aietf%3Awg%3Aoauth%3A2.0%3Aoob&scope=email%20https%3A%2F%2Fwww.googleapis.com%2Fauth%2Fdocs.test%20https%3A%2F%2Fwww.googleapis.com%2Fauth%2Fdrive%20https%3A%2F%2Fwww.googleapis.com%2Fauth%2Fdrive.photos.readonly%20https%3A%2F%2Fwww.googleapis.com%2Fauth%2Fpeopleapi.readonly&response_type=code\n",
            "\n",
            "Enter your authorization code:\n",
            "··········\n",
            "Mounted at /content/gdrive\n"
          ],
          "name": "stdout"
        }
      ]
    },
    {
      "cell_type": "code",
      "metadata": {
        "id": "m_z_D6mIrNFw",
        "colab_type": "code",
        "outputId": "e46c71dc-087a-4602-db3e-0c4c0b68e319",
        "colab": {
          "base_uri": "https://localhost:8080/",
          "height": 85
        }
      },
      "source": [
        "#root_path = \"gdrive/My Drive/Colab Notebooks/Face Recognition/ArcNet/arcface\"\n",
        "!ls $root_path \n",
        "#!pip install mxnet-cu100 \n",
        "#!ls"
      ],
      "execution_count": 0,
      "outputs": [
        {
          "output_type": "stream",
          "text": [
            "ls: cannot access 'gdrive/My': No such file or directory\n",
            "ls: cannot access 'Drive/Colab': No such file or directory\n",
            "ls: cannot access 'Notebooks/Face': No such file or directory\n",
            "ls: cannot access 'Recognition/ArcNet/arcface': No such file or directory\n"
          ],
          "name": "stdout"
        }
      ]
    },
    {
      "cell_type": "code",
      "metadata": {
        "id": "xbYaqq8VraXE",
        "colab_type": "code",
        "colab": {}
      },
      "source": [
        "import os \n",
        "os.chdir(\"gdrive/My Drive/Colab Notebooks/Face Recognition/ArcNet/arcface/deploy/\")\n",
        "\n",
        "#!unzip gamodel-r50.zip\n",
        "#!wget https://www.dropbox.com/s/2xq8mcao6z14e3u/gamodel-r50.zip"
      ],
      "execution_count": 0,
      "outputs": []
    },
    {
      "cell_type": "code",
      "metadata": {
        "id": "pi3qe7j5pI-H",
        "colab_type": "code",
        "outputId": "61b49a18-5c20-4c5c-dbd8-71ef6eca0b12",
        "colab": {
          "base_uri": "https://localhost:8080/",
          "height": 69
        }
      },
      "source": [
        "!ls\n",
        "#!ls \"gdrive/My Drive/Colab Notebooks/Face Recognition/ArcNet/arcface/deploy\""
      ],
      "execution_count": 0,
      "outputs": [
        {
          "output_type": "stream",
          "text": [
            "benchmark.py\t   ga_merge.py\t  mtcnn_detector.py  test.py\n",
            "face_embedding.py  helper.py\t  mtcnn-model\t     Tom_Hanks_54745.png\n",
            "face_model.py\t   model_slim.py  __pycache__\n"
          ],
          "name": "stdout"
        }
      ]
    },
    {
      "cell_type": "code",
      "metadata": {
        "id": "w8lHT4LmsYWX",
        "colab_type": "code",
        "outputId": "a6329b34-a7be-42e7-894c-57c8f1877d66",
        "colab": {
          "base_uri": "https://localhost:8080/",
          "height": 445
        }
      },
      "source": [
        "!wget https://www.dropbox.com/s/tj96fsm6t6rq8ye/model-r100-arcface-ms1m-refine-v2.zip"
      ],
      "execution_count": 0,
      "outputs": [
        {
          "output_type": "stream",
          "text": [
            "--2019-09-17 05:16:17--  https://www.dropbox.com/s/tj96fsm6t6rq8ye/model-r100-arcface-ms1m-refine-v2.zip\n",
            "Resolving www.dropbox.com (www.dropbox.com)... 162.125.8.1, 2620:100:601b:1::a27d:801\n",
            "Connecting to www.dropbox.com (www.dropbox.com)|162.125.8.1|:443... connected.\n",
            "HTTP request sent, awaiting response... 301 Moved Permanently\n",
            "Location: /s/raw/tj96fsm6t6rq8ye/model-r100-arcface-ms1m-refine-v2.zip [following]\n",
            "--2019-09-17 05:16:18--  https://www.dropbox.com/s/raw/tj96fsm6t6rq8ye/model-r100-arcface-ms1m-refine-v2.zip\n",
            "Reusing existing connection to www.dropbox.com:443.\n",
            "HTTP request sent, awaiting response... 302 Found\n",
            "Location: https://uc85cbb9a0ca58b8bda1a6915baa.dl.dropboxusercontent.com/cd/0/inline/AovJ-cvA7y6Za5Ojlz7zc3vGlYAXQHN2aZDnRbEN2ZwUclHdF-V_2E1q3DOlYEq6Jln3An6pD58_VLP-ZaNPnRL0vajLET6lNno3Vk2IB-mYEA/file# [following]\n",
            "--2019-09-17 05:16:18--  https://uc85cbb9a0ca58b8bda1a6915baa.dl.dropboxusercontent.com/cd/0/inline/AovJ-cvA7y6Za5Ojlz7zc3vGlYAXQHN2aZDnRbEN2ZwUclHdF-V_2E1q3DOlYEq6Jln3An6pD58_VLP-ZaNPnRL0vajLET6lNno3Vk2IB-mYEA/file\n",
            "Resolving uc85cbb9a0ca58b8bda1a6915baa.dl.dropboxusercontent.com (uc85cbb9a0ca58b8bda1a6915baa.dl.dropboxusercontent.com)... 162.125.8.6, 2620:100:601b:6::a27d:806\n",
            "Connecting to uc85cbb9a0ca58b8bda1a6915baa.dl.dropboxusercontent.com (uc85cbb9a0ca58b8bda1a6915baa.dl.dropboxusercontent.com)|162.125.8.6|:443... connected.\n",
            "HTTP request sent, awaiting response... 302 FOUND\n",
            "Location: /cd/0/inline2/AovvbJoDTFwMcrfzKTn8Y2GZaHc1I3HgfBWOcCEpgkNxFdE8DIAQRaaeL2H3prXeXOAXqWimeH7ttz7gWAtjIZdcTQPwyfcHkZCVghCOBk1OgDhj9Op6VyiPgf9ZHoVve4GLJqkSeUzWrBRkMcXDVUx1I0ZtL83jnffmjnINJ417rnGYKJdLPm7jCh0HOGQwriP2L8BwhH1kcy-Pt-jZdlxkeFoujBZ62y94Igf8wilm46xXAwzon6q9SJGX1mNzjZsmpdGImx_f38KZKx53c58ggi6ZEumTK526hwLrNSmrAMbmMsbQJoTQX7U3q96BHt5Co2NPAR7aUsZFcxbpNtQ7/file [following]\n",
            "--2019-09-17 05:16:18--  https://uc85cbb9a0ca58b8bda1a6915baa.dl.dropboxusercontent.com/cd/0/inline2/AovvbJoDTFwMcrfzKTn8Y2GZaHc1I3HgfBWOcCEpgkNxFdE8DIAQRaaeL2H3prXeXOAXqWimeH7ttz7gWAtjIZdcTQPwyfcHkZCVghCOBk1OgDhj9Op6VyiPgf9ZHoVve4GLJqkSeUzWrBRkMcXDVUx1I0ZtL83jnffmjnINJ417rnGYKJdLPm7jCh0HOGQwriP2L8BwhH1kcy-Pt-jZdlxkeFoujBZ62y94Igf8wilm46xXAwzon6q9SJGX1mNzjZsmpdGImx_f38KZKx53c58ggi6ZEumTK526hwLrNSmrAMbmMsbQJoTQX7U3q96BHt5Co2NPAR7aUsZFcxbpNtQ7/file\n",
            "Reusing existing connection to uc85cbb9a0ca58b8bda1a6915baa.dl.dropboxusercontent.com:443.\n",
            "HTTP request sent, awaiting response... 200 OK\n",
            "Length: 243494890 (232M) [application/zip]\n",
            "Saving to: ‘model-r100-arcface-ms1m-refine-v2.zip’\n",
            "\n",
            "model-r100-arcface- 100%[===================>] 232.21M  45.2MB/s    in 5.1s    \n",
            "\n",
            "2019-09-17 05:16:24 (45.2 MB/s) - ‘model-r100-arcface-ms1m-refine-v2.zip’ saved [243494890/243494890]\n",
            "\n"
          ],
          "name": "stdout"
        }
      ]
    },
    {
      "cell_type": "code",
      "metadata": {
        "id": "1Fd4xwDSsrQP",
        "colab_type": "code",
        "outputId": "64f14383-33ea-4bea-8f3b-56dc116d3785",
        "colab": {
          "base_uri": "https://localhost:8080/",
          "height": 34
        }
      },
      "source": [
        "!ls \"../models/model-r100-ii/\""
      ],
      "execution_count": 0,
      "outputs": [
        {
          "output_type": "stream",
          "text": [
            "ls: cannot access '../models/model-r100-ii/': No such file or directory\n"
          ],
          "name": "stdout"
        }
      ]
    },
    {
      "cell_type": "code",
      "metadata": {
        "id": "EiMmKnTpsvW3",
        "colab_type": "code",
        "outputId": "10ab6be3-5e95-4c9f-e7fd-7d1c13e9bcba",
        "colab": {
          "base_uri": "https://localhost:8080/",
          "height": 68
        }
      },
      "source": [
        "#!unzip -q model-r100-arcface-ms1m-refine-v2.zip\n",
        "import os\n",
        "#os.chdir(\"gdrive/'My Drive'/'Face Recognition'/from_nasim_arcface/deploy/\")\n",
        "os.chdir(\"from_nasim_arcface/deploy/\")\n",
        "#!pip install mxnet\n",
        "!ls"
      ],
      "execution_count": 0,
      "outputs": [
        {
          "output_type": "stream",
          "text": [
            " benchmark.py\t     ga_merge.py     mtcnn_detector.py\t'test (1).py'\n",
            " face_embedding.py   helper.py\t     mtcnn-model\t Tom_Hanks_54745.png\n",
            " face_model.py\t     model_slim.py   __pycache__\n"
          ],
          "name": "stdout"
        }
      ]
    },
    {
      "cell_type": "code",
      "metadata": {
        "id": "_XS-VJSrtKak",
        "colab_type": "code",
        "outputId": "2b7c5b7a-e82e-447d-b44a-6710a3b893da",
        "colab": {
          "base_uri": "https://localhost:8080/",
          "height": 1000
        }
      },
      "source": [
        "import face_model\n",
        "import argparse\n",
        "import cv2\n",
        "import sys\n",
        "import numpy as np\n",
        "import mxnet\n",
        "import easydict\n",
        "\n",
        "parser = argparse.ArgumentParser(description='face model test')\n",
        "# general\n",
        "\n",
        "parser.add_argument('--image_size', default='112,112', help='')\n",
        "parser.add_argument('--model', default='../models/model-r100-ii/', help='path to load model.')\n",
        "parser.add_argument('--ga_model', default='../models/model-r100-ii/', help='path to load model.')\n",
        "parser.add_argument('--gpu', default=0, type=int, help='gpu id')\n",
        "parser.add_argument('--det', default=0, type=int, help='mtcnn option, 1 means using R+O, 0 means detect from begining')\n",
        "parser.add_argument('--flip', default=0, type=int, help='whether do lr flip aug')\n",
        "parser.add_argument('--threshold', default=1.24, type=float, help='ver dist threshold')\n",
        "\n",
        "\n",
        "args = easydict.EasyDict(\n",
        "{\n",
        "    \"image_size\": '112,112',\n",
        "    \"model\": '../models/model-r100-ii/model, 0',\n",
        "    \"ga_model\": '../models/gamodel-r50/model,0',\n",
        "    \"gpu\": 0,\n",
        "    \"det\": 0,\n",
        "    \"flip\": 0,\n",
        "    \"threshold\": 1.24\n",
        "})\n",
        "\n",
        "\n",
        "#args = parser.parse_args()\n",
        "print(\"comes\")\n",
        "print(args)\n",
        "model = face_model.FaceModel(args)\n",
        "#model = face_model.FaceModel(image_size='112,112', model = '../models/model-r100-ii', ga_model = '../models/model-r100-ii', gpu = 0, det = 0, flip = 0,threshold=1.24)\n",
        "img = cv2.imread('Tom_Hanks_54745.png')\n",
        "img = model.get_input(img)\n",
        "#f1 = model.get_feature(img)\n",
        "#print(f1[0:10])\n",
        "gender, age = model.get_ga(img)\n",
        "print(gender)\n",
        "print(age)\n",
        "#sys.exit(0)\n",
        "#img = cv2.imread('/raid5data/dplearn/megaface/facescrubr/112x112/Tom_Hanks/Tom_Hanks_54733.png')\n",
        "f2 = model.get_feature(img)\n",
        "#dist = np.sum(np.square(f1-f2))\n",
        "print(f2)\n",
        "print(len(f2))\n",
        "#sim = np.dot(f1, f2.T)\n",
        "#print(sim)\n",
        "#diff = np.subtract(source_feature, target_feature)\n",
        "#dist = np.sum(np.square(diff),1)\n"
      ],
      "execution_count": 0,
      "outputs": [
        {
          "output_type": "stream",
          "text": [
            "comes\n",
            "{'image_size': '112,112', 'model': '../models/model-r100-ii/model, 0', 'ga_model': '../models/gamodel-r50/model,0', 'gpu': 0, 'det': 0, 'flip': 0, 'threshold': 1.24}\n",
            "_vec =  ['../models/model-r100-ii/model', ' 0']\n",
            "loading ../models/model-r100-ii/model 0\n",
            "_vec =  ['../models/gamodel-r50/model', '0']\n",
            "loading ../models/gamodel-r50/model 0\n",
            "1\n",
            "35\n",
            "[-2.93939188e-02 -9.19865351e-03 -5.81349358e-02  2.66105291e-02\n",
            "  1.04062594e-02 -8.89193043e-02 -3.65794450e-03 -2.01011840e-02\n",
            "  7.55111407e-03 -3.24328393e-02  3.48244002e-03 -4.86211106e-02\n",
            " -8.90421420e-02  2.39119623e-02 -4.33718972e-03  2.45168563e-02\n",
            "  3.47284637e-02  3.15317661e-02 -2.60411613e-02  4.75725010e-02\n",
            " -5.52630611e-02  3.27472994e-03  7.00753508e-03  2.99087670e-02\n",
            " -1.30203998e-05  9.70281940e-03  3.04823369e-02  5.43293655e-02\n",
            " -7.43916910e-03  2.57439129e-02 -2.76619685e-03  6.43135887e-03\n",
            "  3.42794582e-02 -5.07796146e-02 -2.29289867e-02  3.72785181e-02\n",
            " -1.82140507e-02  4.47309837e-02  4.25066575e-02  3.92630622e-02\n",
            "  2.88714990e-02 -7.29421675e-02  7.07924441e-02 -6.58220053e-02\n",
            "  3.77747267e-02  6.52563721e-02 -5.05938157e-02  2.61511654e-02\n",
            " -2.12064255e-02  4.19689417e-02 -1.86758395e-02  4.68890220e-02\n",
            "  3.67407314e-02  1.84250008e-02  1.21506430e-01 -1.60855278e-02\n",
            " -6.13846220e-02 -5.87585419e-02  3.17600183e-02 -3.90642211e-02\n",
            "  1.83745276e-03 -4.07955535e-02  1.36722168e-02 -5.26542850e-02\n",
            " -1.55977895e-02 -6.50766045e-02  3.96971498e-03  4.46253866e-02\n",
            " -2.69938223e-02  2.24976297e-02 -1.15439311e-01  8.28142744e-03\n",
            " -7.92046916e-03  2.79810317e-02 -3.33473161e-02  8.73433203e-02\n",
            "  4.41870093e-02  2.53720265e-02  2.65334062e-02  1.95333865e-02\n",
            "  7.36841783e-02 -5.82806207e-03  9.40565765e-02  6.04891703e-02\n",
            "  2.34303884e-02  3.40066776e-02 -5.06891944e-02 -1.50981834e-02\n",
            " -7.43415505e-02 -7.61701241e-02 -5.75270271e-03 -1.80287249e-02\n",
            "  2.76670828e-02 -3.18790488e-02 -4.91321534e-02  6.30374998e-02\n",
            " -6.40149191e-02 -6.52243719e-02 -1.03302948e-01 -1.57122836e-02\n",
            "  3.14150676e-02 -6.71427697e-02 -5.32862768e-02  2.90563377e-03\n",
            " -4.16467376e-02  3.17887776e-03  3.03919185e-02 -7.44687952e-03\n",
            " -1.09957494e-02  3.07084583e-02  1.06870025e-01  1.16131902e-02\n",
            "  1.00028785e-02  4.33439799e-02  2.13781353e-02 -4.86105960e-03\n",
            " -5.69106713e-02  9.49180778e-03 -4.30154726e-02  9.10180286e-02\n",
            "  1.82307102e-02 -1.15799252e-03 -1.14925504e-02  5.02897836e-02\n",
            " -3.67951370e-03  1.51486322e-03 -7.35967010e-02 -4.81317751e-02\n",
            " -3.37797366e-02  1.02592790e-02  2.84445584e-02 -6.08828589e-02\n",
            "  2.73006707e-02  2.03508958e-02 -1.99261233e-02  3.19842026e-02\n",
            " -6.66241273e-02 -3.07425931e-02  1.27652232e-02 -4.17732596e-02\n",
            "  8.53167195e-03 -2.53270287e-03  3.61274146e-02  1.73868332e-02\n",
            "  6.97571039e-02 -6.98356926e-02 -2.70485263e-02  1.31196519e-02\n",
            "  1.78474411e-02 -5.35718426e-02 -8.47565085e-02  7.77312275e-03\n",
            " -9.13051292e-02  5.00831008e-02 -5.59318885e-02 -1.10881897e-02\n",
            " -4.10309322e-02  2.83634011e-02  1.34410488e-03 -4.83096801e-02\n",
            "  2.80859414e-02 -3.49760428e-02 -9.21021868e-03  2.18491368e-02\n",
            " -8.93073976e-02 -4.82864715e-02 -1.15599027e-02  2.64285952e-02\n",
            " -6.82091936e-02 -4.16660681e-04  3.91632644e-03  1.04467385e-01\n",
            "  6.77233096e-03  9.54302668e-04  2.70260032e-02 -8.46954957e-02\n",
            "  1.08643927e-01 -3.37833166e-02 -1.29843643e-02  4.74981451e-03\n",
            " -3.18131968e-02  8.03460646e-03  1.43218786e-02  3.57893892e-02\n",
            "  6.50833547e-02 -8.01197514e-02 -7.21109612e-03  1.19318992e-01\n",
            "  5.07074036e-02  3.03271785e-02 -2.74594333e-02 -4.61833812e-02\n",
            " -7.11363852e-02 -2.71116737e-02  8.56392905e-02  4.54035364e-02\n",
            " -2.73256041e-02 -4.03108494e-03  3.26675251e-02  1.20317396e-02\n",
            " -3.08948252e-02 -5.79397231e-02 -9.35733691e-03 -4.97683324e-02\n",
            "  1.24665061e-02  1.28879147e-02  1.66558828e-02 -4.77550812e-02\n",
            "  6.85533434e-02 -1.68445166e-02  1.01137884e-01 -2.34775674e-02\n",
            " -3.61629849e-04  6.81964972e-04  3.61184105e-02 -3.29674222e-02\n",
            "  5.53927710e-03  2.57384889e-02 -4.54126857e-02  3.71730067e-02\n",
            "  2.92994510e-02  1.23536088e-01  4.70090471e-02 -4.12055068e-02\n",
            "  4.59879972e-02 -3.24691534e-02 -1.32513838e-02  3.56011242e-02\n",
            "  2.13651322e-02 -4.85953838e-02  1.02731632e-02  2.05798205e-02\n",
            " -1.81788933e-02  1.24582378e-02  6.45616800e-02 -6.83858432e-03\n",
            " -7.68974517e-03 -1.92089155e-02  2.00045272e-03  1.17353320e-01\n",
            " -2.78083850e-02 -4.76142131e-02 -2.94208825e-02 -5.73494993e-02\n",
            "  3.98975424e-03  6.97612923e-05 -2.14129500e-02  4.70891520e-02\n",
            " -5.40481769e-02  8.53758231e-02  4.84540239e-02 -8.02857429e-02\n",
            "  2.42792424e-02  2.43289173e-02  3.70397652e-03  8.24533403e-02\n",
            "  2.31616036e-03 -6.52558804e-02 -1.47787808e-02  4.83161919e-02\n",
            "  1.43597536e-02  7.12977583e-03  2.33671106e-02  3.85962538e-02\n",
            "  3.51972296e-03 -4.74371165e-02 -1.34639544e-02  1.20989038e-02\n",
            "  3.45691405e-02 -3.96817699e-02 -6.20243279e-03  4.48523574e-02\n",
            " -1.44512327e-02  8.82825926e-02 -1.71587300e-02  2.60075331e-02\n",
            " -4.57579605e-02 -1.38763459e-02 -3.98440138e-02  1.28804184e-02\n",
            "  3.10367662e-02 -2.81190090e-02  7.39366189e-03  2.02375650e-02\n",
            " -8.76995176e-02 -3.40595208e-02 -2.11169068e-02  4.64916416e-02\n",
            "  8.05539563e-02  1.59275793e-02 -1.63315069e-02 -2.08954252e-02\n",
            "  1.37674902e-02  2.96470779e-03 -8.61226246e-02  4.01326679e-02\n",
            "  1.01903543e-01 -1.62517722e-03 -1.86963435e-02  7.02914447e-02\n",
            "  1.44884177e-02  3.42453830e-02  3.24906921e-03 -7.45127648e-02\n",
            " -1.30915400e-02 -4.13631722e-02  6.43443987e-02 -3.61891203e-02\n",
            " -5.84017299e-02 -1.03692040e-02  2.33055819e-02 -1.45777790e-02\n",
            " -8.11987743e-02 -5.96868107e-03 -4.31880169e-03  1.12500153e-02\n",
            "  1.20815039e-02 -8.39843228e-03  5.84337227e-02 -1.19920978e-02\n",
            "  1.01859029e-03 -1.82156861e-02 -2.40490790e-02  8.29242766e-02\n",
            "  8.34605284e-03 -2.28173491e-02 -3.28035420e-03  1.82752460e-02\n",
            " -4.93127033e-02  8.38234499e-02 -7.85260834e-03 -5.57822101e-02\n",
            " -3.48626450e-02  4.78500947e-02 -3.63328606e-02  3.10051278e-03\n",
            " -2.79774959e-03 -3.59343402e-02  6.77172616e-02  4.78514433e-02\n",
            " -7.01385960e-02  1.18020132e-01  3.32661681e-02  1.44793848e-02\n",
            " -1.41575485e-02 -1.03758357e-01  4.28804457e-02 -9.56019238e-02\n",
            " -8.78165103e-03 -3.82218920e-02 -3.75012425e-03 -1.60839688e-02\n",
            "  4.68682535e-02  3.52409817e-02  8.89277011e-02  5.62818609e-02\n",
            "  6.82918914e-03 -5.38249835e-02 -3.67104076e-02  5.55093447e-03\n",
            "  3.27546485e-02  6.81684073e-03 -1.83458906e-02  2.02488620e-02\n",
            "  1.28772641e-02  8.33316240e-03 -5.08606853e-03 -1.02402130e-02\n",
            "  5.36304154e-02  3.32494676e-02  5.65277077e-02 -6.16065711e-02\n",
            " -4.60921694e-03  4.89646271e-02  1.42526848e-03 -4.26440202e-02\n",
            "  3.82584333e-03 -3.24418508e-02  4.78488244e-02 -6.36957735e-02\n",
            "  1.97324809e-02 -5.99044096e-03 -6.68946207e-02 -3.48862633e-02\n",
            " -6.88403845e-02  3.16190347e-02  7.89932732e-04  9.67548601e-03\n",
            "  3.69107090e-02  1.72944758e-02  8.02833494e-03 -3.02840006e-02\n",
            "  3.22354324e-02  6.87826350e-02  7.47323707e-02 -6.41416609e-02\n",
            " -2.61081122e-02 -2.50686835e-02 -3.31474585e-03  1.99753307e-02\n",
            " -4.43778411e-02 -4.36731838e-02 -6.35535270e-02 -2.05012280e-02\n",
            " -2.02809218e-02  7.71314418e-03 -1.28266290e-01 -3.75253521e-02\n",
            "  1.34363119e-02  1.36593897e-02  3.89241725e-02  1.02876753e-01\n",
            "  1.30364457e-02  4.81780730e-02 -1.22593958e-02 -3.07761636e-02\n",
            "  1.34755950e-02 -1.47215677e-02  1.71608590e-02 -1.16688469e-02\n",
            "  4.12053876e-02  9.07877609e-02  1.43735455e-02 -2.89068092e-02\n",
            " -6.03903979e-02  5.50661795e-02 -5.47477556e-03 -3.01288832e-02\n",
            " -3.81636992e-02  8.13973695e-03 -2.07372066e-02 -3.95571329e-02\n",
            " -4.99106646e-02  6.14576563e-02 -1.72189306e-02 -8.14203769e-02\n",
            " -1.89384189e-03 -2.26628706e-02  1.21058132e-02 -7.51699507e-02\n",
            "  1.76831093e-02  2.49100551e-02  3.76104601e-02 -1.37238558e-02\n",
            " -1.96561664e-02 -2.70368941e-02 -2.94432491e-02 -5.60599715e-02\n",
            "  1.28927454e-02  9.09089856e-03  7.90163651e-02  8.18776116e-02\n",
            "  2.55773738e-02  2.43615154e-02  6.94425628e-02  6.22564480e-02\n",
            "  1.92299522e-02  1.61638875e-02 -3.93979549e-02 -2.85511967e-02\n",
            "  8.90071131e-03 -8.00996870e-02  3.36020403e-02  1.39799388e-02\n",
            "  9.54856630e-03 -5.10212854e-02  5.40693626e-02  1.23864645e-02\n",
            " -1.37079915e-03 -1.64696593e-02 -2.62770206e-02  3.61857079e-02\n",
            "  2.21647713e-02 -5.59221618e-02  2.44446192e-02  5.25188707e-02\n",
            " -3.80055718e-02 -1.96937043e-02  6.87786713e-02  2.03061085e-02\n",
            " -2.63141021e-02  5.50804995e-02 -3.31293456e-02  1.68834832e-02\n",
            "  1.26634184e-02 -1.37884989e-01 -2.48310268e-02  1.99974943e-02\n",
            "  3.04426998e-02  4.21691015e-02 -4.00432013e-03 -7.14618191e-02\n",
            " -3.47204432e-02 -3.21171917e-02 -5.06043248e-03 -5.84732965e-02\n",
            " -4.60850671e-02 -6.16432466e-02  2.88436026e-03  3.99222784e-02\n",
            "  1.66838598e-02 -1.32070004e-03  3.47378626e-02 -2.62276195e-02\n",
            "  3.14724557e-02  5.83886653e-02  1.71537157e-02 -3.36662717e-02\n",
            " -2.24101893e-03  5.99825047e-02  1.79695599e-02 -4.49412428e-02]\n",
            "512\n"
          ],
          "name": "stdout"
        }
      ]
    },
    {
      "cell_type": "code",
      "metadata": {
        "id": "9QLE2xxbve7e",
        "colab_type": "code",
        "outputId": "ed06a6a1-6ef3-4ba7-f55d-144d9d5d2604",
        "colab": {
          "base_uri": "https://localhost:8080/",
          "height": 68
        }
      },
      "source": [
        "!ls\n",
        "#!python test (1).py"
      ],
      "execution_count": 0,
      "outputs": [
        {
          "output_type": "stream",
          "text": [
            " benchmark.py\t     ga_merge.py     mtcnn_detector.py\t'test (1).py'\n",
            " face_embedding.py   helper.py\t     mtcnn-model\t Tom_Hanks_54745.png\n",
            " face_model.py\t     model_slim.py   __pycache__\n"
          ],
          "name": "stdout"
        }
      ]
    },
    {
      "cell_type": "code",
      "metadata": {
        "id": "VRuwoIYpjSkK",
        "colab_type": "code",
        "outputId": "4f1a7af8-d427-4659-d158-9e29939df7d1",
        "colab": {
          "base_uri": "https://localhost:8080/",
          "height": 153
        }
      },
      "source": [
        "pip install mxnet-cu100"
      ],
      "execution_count": 0,
      "outputs": [
        {
          "output_type": "stream",
          "text": [
            "Requirement already satisfied: mxnet-cu100 in /usr/local/lib/python3.6/dist-packages (1.5.0)\n",
            "Requirement already satisfied: graphviz<0.9.0,>=0.8.1 in /usr/local/lib/python3.6/dist-packages (from mxnet-cu100) (0.8.4)\n",
            "Requirement already satisfied: numpy<2.0.0,>1.16.0 in /usr/local/lib/python3.6/dist-packages (from mxnet-cu100) (1.16.5)\n",
            "Requirement already satisfied: requests<3,>=2.20.0 in /usr/local/lib/python3.6/dist-packages (from mxnet-cu100) (2.21.0)\n",
            "Requirement already satisfied: urllib3<1.25,>=1.21.1 in /usr/local/lib/python3.6/dist-packages (from requests<3,>=2.20.0->mxnet-cu100) (1.24.3)\n",
            "Requirement already satisfied: idna<2.9,>=2.5 in /usr/local/lib/python3.6/dist-packages (from requests<3,>=2.20.0->mxnet-cu100) (2.8)\n",
            "Requirement already satisfied: chardet<3.1.0,>=3.0.2 in /usr/local/lib/python3.6/dist-packages (from requests<3,>=2.20.0->mxnet-cu100) (3.0.4)\n",
            "Requirement already satisfied: certifi>=2017.4.17 in /usr/local/lib/python3.6/dist-packages (from requests<3,>=2.20.0->mxnet-cu100) (2019.6.16)\n"
          ],
          "name": "stdout"
        }
      ]
    },
    {
      "cell_type": "code",
      "metadata": {
        "id": "TKsdUuxTini0",
        "colab_type": "code",
        "outputId": "5c0ebed6-76ef-4145-cf8e-74bdc8a3499d",
        "colab": {
          "base_uri": "https://localhost:8080/",
          "height": 214
        }
      },
      "source": [
        "import face_model\n",
        "import argparse\n",
        "import cv2\n",
        "import sys\n",
        "import numpy as np\n",
        "\n",
        "parser = argparse.ArgumentParser(description='face model test')\n",
        "# general\n",
        "parser.add_argument('--image-size', default='112,112', help='')\n",
        "parser.add_argument('--model', default='../models/model-r100-ii/model,0', help='path to load model.')\n",
        "parser.add_argument('--ga-model', default='../models/gamodel-r40/model,0', help='path to load model.')\n",
        "parser.add_argument('--gpu', default=0, type=int, help='gpu id')\n",
        "parser.add_argument('--det', default=0, type=int, help='mtcnn option, 1 means using R+O, 0 means detect from begining')\n",
        "parser.add_argument('--flip', default=0, type=int, help='whether do lr flip aug')\n",
        "parser.add_argument('--threshold', default=1.24, type=float, help='ver dist threshold')\n",
        "args = parser.parse_args()\n",
        "print(args)\n",
        "model = face_model.FaceModel(args)\n",
        "img = cv2.imread('Tom_Hanks_54745.png')\n",
        "img = model.get_input(img)\n",
        "f1 = model.get_feature(img)\n",
        "print(f1[0:10])\n",
        "gender, age = model.get_ga(img)\n",
        "#print(gender)\n",
        "#print(age)\n",
        "#sys.exit(0)\n",
        "#img = cv2.imread('/raid5data/dplearn/megaface/facescrubr/112x112/Tom_Hanks/Tom_Hanks_54733.png')\n",
        "#f2 = model.get_feature(img)\n",
        "#dist = np.sum(np.square(f1-f2))\n",
        "#print(dist)\n",
        "#sim = np.dot(f1, f2.T)\n",
        "#print(sim)\n",
        "#diff = np.subtract(source_feature, target_feature)\n",
        "#dist = np.sum(np.square(diff),1)\n"
      ],
      "execution_count": 0,
      "outputs": [
        {
          "output_type": "stream",
          "text": [
            "usage: ipykernel_launcher.py [-h] [--image-size IMAGE_SIZE] [--model MODEL]\n",
            "                             [--ga-model GA_MODEL] [--gpu GPU] [--det DET]\n",
            "                             [--flip FLIP] [--threshold THRESHOLD]\n",
            "ipykernel_launcher.py: error: unrecognized arguments: -f /root/.local/share/jupyter/runtime/kernel-99f8610e-25b0-43c2-bbaa-b41e90f241fc.json\n"
          ],
          "name": "stderr"
        },
        {
          "output_type": "error",
          "ename": "SystemExit",
          "evalue": "ignored",
          "traceback": [
            "An exception has occurred, use %tb to see the full traceback.\n",
            "\u001b[0;31mSystemExit\u001b[0m\u001b[0;31m:\u001b[0m 2\n"
          ]
        },
        {
          "output_type": "stream",
          "text": [
            "/usr/local/lib/python3.6/dist-packages/IPython/core/interactiveshell.py:2890: UserWarning: To exit: use 'exit', 'quit', or Ctrl-D.\n",
            "  warn(\"To exit: use 'exit', 'quit', or Ctrl-D.\", stacklevel=1)\n"
          ],
          "name": "stderr"
        }
      ]
    },
    {
      "cell_type": "code",
      "metadata": {
        "id": "TKMwj6UEjCuT",
        "colab_type": "code",
        "colab": {}
      },
      "source": [
        ""
      ],
      "execution_count": 0,
      "outputs": []
    }
  ]
}