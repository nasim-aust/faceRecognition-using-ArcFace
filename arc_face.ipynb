{
 "cells": [
  {
   "cell_type": "code",
   "execution_count": 1,
   "metadata": {
    "colab": {
     "base_uri": "https://localhost:8080/",
     "height": 122
    },
    "colab_type": "code",
    "executionInfo": {
     "elapsed": 26412,
     "status": "ok",
     "timestamp": 1568694862393,
     "user": {
      "displayName": "Md Abdullah Al Nasim",
      "photoUrl": "https://lh3.googleusercontent.com/a-/AAuE7mAHkJdtPqOXyzomcwaV0yXmvqe9JpYoxY0Wr0EpIg=s64",
      "userId": "10622249798116884773"
     },
     "user_tz": -360
    },
    "id": "5WojS6C-q0-f",
    "outputId": "88dda262-766e-48dd-de03-d2622f440088"
   },
   "outputs": [
    {
     "name": "stdout",
     "output_type": "stream",
     "text": [
      "Go to this URL in a browser: https://accounts.google.com/o/oauth2/auth?client_id=947318989803-6bn6qk8qdgf4n4g3pfee6491hc0brc4i.apps.googleusercontent.com&redirect_uri=urn%3Aietf%3Awg%3Aoauth%3A2.0%3Aoob&scope=email%20https%3A%2F%2Fwww.googleapis.com%2Fauth%2Fdocs.test%20https%3A%2F%2Fwww.googleapis.com%2Fauth%2Fdrive%20https%3A%2F%2Fwww.googleapis.com%2Fauth%2Fdrive.photos.readonly%20https%3A%2F%2Fwww.googleapis.com%2Fauth%2Fpeopleapi.readonly&response_type=code\n",
      "\n",
      "Enter your authorization code:\n",
      "··········\n",
      "Mounted at /content/gdrive\n"
     ]
    }
   ],
   "source": [
    "#from google.colab import drive\n",
    "#drive.mount('/content/gdrive')"
   ]
  },
  {
   "cell_type": "code",
   "execution_count": 1,
   "metadata": {
    "colab": {
     "base_uri": "https://localhost:8080/",
     "height": 238
    },
    "colab_type": "code",
    "executionInfo": {
     "elapsed": 5696,
     "status": "ok",
     "timestamp": 1568695047069,
     "user": {
      "displayName": "Md Abdullah Al Nasim",
      "photoUrl": "https://lh3.googleusercontent.com/a-/AAuE7mAHkJdtPqOXyzomcwaV0yXmvqe9JpYoxY0Wr0EpIg=s64",
      "userId": "10622249798116884773"
     },
     "user_tz": -360
    },
    "id": "m_z_D6mIrNFw",
    "outputId": "78c43e8d-23b0-48c1-c1ea-6a571d57ef54"
   },
   "outputs": [
    {
     "name": "stdout",
     "output_type": "stream",
     "text": [
      "3rdparty\n",
      "Evaluation\n",
      "LICENSE\n",
      "PRNet.mxnet\n",
      "README.md\n",
      "RetinaFace\n",
      "_gitignore\n",
      "_gitmodules\n",
      "alignment\n",
      "arc_face.ipynb\n",
      "common\n",
      "cpp-align\n",
      "datasets\n",
      "deploy\n",
      "gender-age\n",
      "iccv19-challenge\n",
      "models\n",
      "python-package\n",
      "recognition\n",
      "resources\n",
      "sample-images\n",
      "src\n"
     ]
    }
   ],
   "source": [
    "#root_path = \"gdrive/'My Drive/Colab Notebooks/Face Recognition/ArcNet/arcface'\"\n",
    "#!ls $root_path \n",
    "#!pip install mxnet \n",
    "!ls"
   ]
  },
  {
   "cell_type": "code",
   "execution_count": 2,
   "metadata": {
    "colab": {
     "base_uri": "https://localhost:8080/",
     "height": 479
    },
    "colab_type": "code",
    "executionInfo": {
     "elapsed": 11726,
     "status": "ok",
     "timestamp": 1568697353229,
     "user": {
      "displayName": "Md Abdullah Al Nasim",
      "photoUrl": "https://lh3.googleusercontent.com/a-/AAuE7mAHkJdtPqOXyzomcwaV0yXmvqe9JpYoxY0Wr0EpIg=s64",
      "userId": "10622249798116884773"
     },
     "user_tz": -360
    },
    "id": "xbYaqq8VraXE",
    "outputId": "aafd7546-36af-4589-abdf-c326efd39643"
   },
   "outputs": [
    {
     "name": "stdout",
     "output_type": "stream",
     "text": [
      "Tom_Hanks_54745.png\n",
      "__pycache__\n",
      "benchmark.py\n",
      "face_embedding.py\n",
      "face_model.py\n",
      "ga_merge.py\n",
      "helper.py\n",
      "model_slim.py\n",
      "mtcnn-model\n",
      "mtcnn_detector.py\n",
      "test.py\n"
     ]
    }
   ],
   "source": [
    "import os \n",
    "os.chdir(\"deploy/\")\n",
    "!ls\n",
    "#!unzip gamodel-r50.zip\n",
    "#!wget https://www.dropbox.com/s/2xq8mcao6z14e3u/gamodel-r50.zip"
   ]
  },
  {
   "cell_type": "code",
   "execution_count": 9,
   "metadata": {
    "colab": {
     "base_uri": "https://localhost:8080/",
     "height": 445
    },
    "colab_type": "code",
    "executionInfo": {
     "elapsed": 8612,
     "status": "ok",
     "timestamp": 1568697385182,
     "user": {
      "displayName": "Md Abdullah Al Nasim",
      "photoUrl": "https://lh3.googleusercontent.com/a-/AAuE7mAHkJdtPqOXyzomcwaV0yXmvqe9JpYoxY0Wr0EpIg=s64",
      "userId": "10622249798116884773"
     },
     "user_tz": -360
    },
    "id": "w8lHT4LmsYWX",
    "outputId": "a6329b34-a7be-42e7-894c-57c8f1877d66"
   },
   "outputs": [
    {
     "name": "stdout",
     "output_type": "stream",
     "text": [
      "--2019-09-17 05:16:17--  https://www.dropbox.com/s/tj96fsm6t6rq8ye/model-r100-arcface-ms1m-refine-v2.zip\n",
      "Resolving www.dropbox.com (www.dropbox.com)... 162.125.8.1, 2620:100:601b:1::a27d:801\n",
      "Connecting to www.dropbox.com (www.dropbox.com)|162.125.8.1|:443... connected.\n",
      "HTTP request sent, awaiting response... 301 Moved Permanently\n",
      "Location: /s/raw/tj96fsm6t6rq8ye/model-r100-arcface-ms1m-refine-v2.zip [following]\n",
      "--2019-09-17 05:16:18--  https://www.dropbox.com/s/raw/tj96fsm6t6rq8ye/model-r100-arcface-ms1m-refine-v2.zip\n",
      "Reusing existing connection to www.dropbox.com:443.\n",
      "HTTP request sent, awaiting response... 302 Found\n",
      "Location: https://uc85cbb9a0ca58b8bda1a6915baa.dl.dropboxusercontent.com/cd/0/inline/AovJ-cvA7y6Za5Ojlz7zc3vGlYAXQHN2aZDnRbEN2ZwUclHdF-V_2E1q3DOlYEq6Jln3An6pD58_VLP-ZaNPnRL0vajLET6lNno3Vk2IB-mYEA/file# [following]\n",
      "--2019-09-17 05:16:18--  https://uc85cbb9a0ca58b8bda1a6915baa.dl.dropboxusercontent.com/cd/0/inline/AovJ-cvA7y6Za5Ojlz7zc3vGlYAXQHN2aZDnRbEN2ZwUclHdF-V_2E1q3DOlYEq6Jln3An6pD58_VLP-ZaNPnRL0vajLET6lNno3Vk2IB-mYEA/file\n",
      "Resolving uc85cbb9a0ca58b8bda1a6915baa.dl.dropboxusercontent.com (uc85cbb9a0ca58b8bda1a6915baa.dl.dropboxusercontent.com)... 162.125.8.6, 2620:100:601b:6::a27d:806\n",
      "Connecting to uc85cbb9a0ca58b8bda1a6915baa.dl.dropboxusercontent.com (uc85cbb9a0ca58b8bda1a6915baa.dl.dropboxusercontent.com)|162.125.8.6|:443... connected.\n",
      "HTTP request sent, awaiting response... 302 FOUND\n",
      "Location: /cd/0/inline2/AovvbJoDTFwMcrfzKTn8Y2GZaHc1I3HgfBWOcCEpgkNxFdE8DIAQRaaeL2H3prXeXOAXqWimeH7ttz7gWAtjIZdcTQPwyfcHkZCVghCOBk1OgDhj9Op6VyiPgf9ZHoVve4GLJqkSeUzWrBRkMcXDVUx1I0ZtL83jnffmjnINJ417rnGYKJdLPm7jCh0HOGQwriP2L8BwhH1kcy-Pt-jZdlxkeFoujBZ62y94Igf8wilm46xXAwzon6q9SJGX1mNzjZsmpdGImx_f38KZKx53c58ggi6ZEumTK526hwLrNSmrAMbmMsbQJoTQX7U3q96BHt5Co2NPAR7aUsZFcxbpNtQ7/file [following]\n",
      "--2019-09-17 05:16:18--  https://uc85cbb9a0ca58b8bda1a6915baa.dl.dropboxusercontent.com/cd/0/inline2/AovvbJoDTFwMcrfzKTn8Y2GZaHc1I3HgfBWOcCEpgkNxFdE8DIAQRaaeL2H3prXeXOAXqWimeH7ttz7gWAtjIZdcTQPwyfcHkZCVghCOBk1OgDhj9Op6VyiPgf9ZHoVve4GLJqkSeUzWrBRkMcXDVUx1I0ZtL83jnffmjnINJ417rnGYKJdLPm7jCh0HOGQwriP2L8BwhH1kcy-Pt-jZdlxkeFoujBZ62y94Igf8wilm46xXAwzon6q9SJGX1mNzjZsmpdGImx_f38KZKx53c58ggi6ZEumTK526hwLrNSmrAMbmMsbQJoTQX7U3q96BHt5Co2NPAR7aUsZFcxbpNtQ7/file\n",
      "Reusing existing connection to uc85cbb9a0ca58b8bda1a6915baa.dl.dropboxusercontent.com:443.\n",
      "HTTP request sent, awaiting response... 200 OK\n",
      "Length: 243494890 (232M) [application/zip]\n",
      "Saving to: ‘model-r100-arcface-ms1m-refine-v2.zip’\n",
      "\n",
      "model-r100-arcface- 100%[===================>] 232.21M  45.2MB/s    in 5.1s    \n",
      "\n",
      "2019-09-17 05:16:24 (45.2 MB/s) - ‘model-r100-arcface-ms1m-refine-v2.zip’ saved [243494890/243494890]\n",
      "\n"
     ]
    }
   ],
   "source": [
    "!wget https://www.dropbox.com/s/tj96fsm6t6rq8ye/model-r100-arcface-ms1m-refine-v2.zip"
   ]
  },
  {
   "cell_type": "code",
   "execution_count": 10,
   "metadata": {
    "colab": {
     "base_uri": "https://localhost:8080/",
     "height": 34
    },
    "colab_type": "code",
    "executionInfo": {
     "elapsed": 2119,
     "status": "ok",
     "timestamp": 1568697395244,
     "user": {
      "displayName": "Md Abdullah Al Nasim",
      "photoUrl": "https://lh3.googleusercontent.com/a-/AAuE7mAHkJdtPqOXyzomcwaV0yXmvqe9JpYoxY0Wr0EpIg=s64",
      "userId": "10622249798116884773"
     },
     "user_tz": -360
    },
    "id": "1Fd4xwDSsrQP",
    "outputId": "64f14383-33ea-4bea-8f3b-56dc116d3785"
   },
   "outputs": [
    {
     "name": "stdout",
     "output_type": "stream",
     "text": [
      "ls: cannot access '../models/model-r100-ii/': No such file or directory\n"
     ]
    }
   ],
   "source": [
    "!ls \"../models/model-r100-ii/\""
   ]
  },
  {
   "cell_type": "code",
   "execution_count": 4,
   "metadata": {
    "colab": {
     "base_uri": "https://localhost:8080/",
     "height": 68
    },
    "colab_type": "code",
    "executionInfo": {
     "elapsed": 8862,
     "status": "ok",
     "timestamp": 1568629321010,
     "user": {
      "displayName": "Mahim Anzum Haque pantho",
      "photoUrl": "https://lh3.googleusercontent.com/a-/AAuE7mD2lkgdC-M_53HbDklxXbBN0K9q5UMGVQMUi_3gQQ=s64",
      "userId": "07659887497514272211"
     },
     "user_tz": -360
    },
    "id": "EiMmKnTpsvW3",
    "outputId": "10ab6be3-5e95-4c9f-e7fd-7d1c13e9bcba"
   },
   "outputs": [
    {
     "ename": "FileNotFoundError",
     "evalue": "[WinError 3] The system cannot find the path specified: 'from_nasim_arcface/deploy/'",
     "output_type": "error",
     "traceback": [
      "\u001b[1;31m---------------------------------------------------------------------------\u001b[0m",
      "\u001b[1;31mFileNotFoundError\u001b[0m                         Traceback (most recent call last)",
      "\u001b[1;32m<ipython-input-4-86c3739de7cc>\u001b[0m in \u001b[0;36m<module>\u001b[1;34m\u001b[0m\n\u001b[0;32m      2\u001b[0m \u001b[1;32mimport\u001b[0m \u001b[0mos\u001b[0m\u001b[1;33m\u001b[0m\u001b[1;33m\u001b[0m\u001b[0m\n\u001b[0;32m      3\u001b[0m \u001b[1;31m#os.chdir(\"gdrive/'My Drive'/'Face Recognition'/from_nasim_arcface/deploy/\")\u001b[0m\u001b[1;33m\u001b[0m\u001b[1;33m\u001b[0m\u001b[1;33m\u001b[0m\u001b[0m\n\u001b[1;32m----> 4\u001b[1;33m \u001b[0mos\u001b[0m\u001b[1;33m.\u001b[0m\u001b[0mchdir\u001b[0m\u001b[1;33m(\u001b[0m\u001b[1;34m\"from_nasim_arcface/deploy/\"\u001b[0m\u001b[1;33m)\u001b[0m\u001b[1;33m\u001b[0m\u001b[1;33m\u001b[0m\u001b[0m\n\u001b[0m\u001b[0;32m      5\u001b[0m \u001b[1;31m#!pip install mxnet\u001b[0m\u001b[1;33m\u001b[0m\u001b[1;33m\u001b[0m\u001b[1;33m\u001b[0m\u001b[0m\n\u001b[0;32m      6\u001b[0m \u001b[0mget_ipython\u001b[0m\u001b[1;33m(\u001b[0m\u001b[1;33m)\u001b[0m\u001b[1;33m.\u001b[0m\u001b[0msystem\u001b[0m\u001b[1;33m(\u001b[0m\u001b[1;34m'ls'\u001b[0m\u001b[1;33m)\u001b[0m\u001b[1;33m\u001b[0m\u001b[1;33m\u001b[0m\u001b[0m\n",
      "\u001b[1;31mFileNotFoundError\u001b[0m: [WinError 3] The system cannot find the path specified: 'from_nasim_arcface/deploy/'"
     ]
    }
   ],
   "source": [
    "#!unzip -q model-r100-arcface-ms1m-refine-v2.zip\n",
    "import os\n",
    "#os.chdir(\"gdrive/'My Drive'/'Face Recognition'/from_nasim_arcface/deploy/\")\n",
    "os.chdir(\"from_nasim_arcface/deploy/\")\n",
    "#!pip install mxnet\n",
    "!ls"
   ]
  },
  {
   "cell_type": "code",
   "execution_count": 7,
   "metadata": {},
   "outputs": [
    {
     "name": "stdout",
     "output_type": "stream",
     "text": [
      "Collecting easydict\n",
      "  Downloading https://files.pythonhosted.org/packages/4c/c5/5757886c4f538c1b3f95f6745499a24bffa389a805dee92d093e2d9ba7db/easydict-1.9.tar.gz\n",
      "Building wheels for collected packages: easydict\n",
      "  Building wheel for easydict (setup.py): started\n",
      "  Building wheel for easydict (setup.py): finished with status 'done'\n",
      "  Created wheel for easydict: filename=easydict-1.9-cp37-none-any.whl size=6354 sha256=f3859e46927124d45a681943c01ce88ea4eb60abecb45107d37608e0e39481cd\n",
      "  Stored in directory: C:\\Users\\nasim\\AppData\\Local\\pip\\Cache\\wheels\\9a\\88\\ec\\085d92753646b0eda1b7df49c7afe51a6ecc496556d3012e2e\n",
      "Successfully built easydict\n",
      "Installing collected packages: easydict\n",
      "Successfully installed easydict-1.9\n",
      "Note: you may need to restart the kernel to use updated packages.\n"
     ]
    }
   ],
   "source": [
    "#pip install easydict"
   ]
  },
  {
   "cell_type": "code",
   "execution_count": 14,
   "metadata": {},
   "outputs": [
    {
     "name": "stdout",
     "output_type": "stream",
     "text": [
      "Tom_Hanks_54745.png\n",
      "__pycache__\n",
      "barack1.jpg\n",
      "barack2.jpg\n",
      "benchmark.py\n",
      "face_embedding.py\n",
      "face_model.py\n",
      "flask_test.py\n",
      "ga_merge.py\n",
      "helper.py\n",
      "model_slim.py\n",
      "mtcnn-model\n",
      "mtcnn_detector.py\n",
      "test.py\n"
     ]
    }
   ],
   "source": [
    "!ls"
   ]
  },
  {
   "cell_type": "code",
   "execution_count": null,
   "metadata": {},
   "outputs": [],
   "source": [
    "import face_model\n",
    "import argparse\n",
    "import cv2\n",
    "import sys\n",
    "import numpy as np\n",
    "import mxnet\n",
    "import easydict\n",
    "\n",
    "\n",
    "parser = argparse.ArgumentParser(description='face model test')\n",
    "# general\n",
    "\n",
    "parser.add_argument('--image_size', default='112,112', help='')\n",
    "parser.add_argument('--model', default='../models/model-r100-ii/', help='path to load model.')\n",
    "parser.add_argument('--ga_model', default='../models/model-r100-ii/', help='path to load model.')\n",
    "parser.add_argument('--gpu', default=0, type=int, help='gpu id')\n",
    "parser.add_argument('--det', default=0, type=int, help='mtcnn option, 1 means using R+O, 0 means detect from begining')\n",
    "parser.add_argument('--flip', default=0, type=int, help='whether do lr flip aug')\n",
    "parser.add_argument('--threshold', default=1.24, type=float, help='ver dist threshold')\n",
    "\n",
    "\n",
    "args = easydict.EasyDict(\n",
    "{\n",
    "    \"image_size\": '112,112',\n",
    "    \"model\": '../models/model-r100-ii/model, 0',\n",
    "    \"ga_model\": '../models/gamodel-r50/model,0',\n",
    "    \"gpu\": 0,\n",
    "    \"det\": 0,\n",
    "    \"flip\": 0,\n",
    "    \"threshold\": 1.24\n",
    "})\n",
    "\n",
    "\n",
    "#args = parser.parse_args()\n",
    "print(\"comes\")\n",
    "print(args)\n",
    "model = face_model.FaceModel(args)\n",
    "#model = facre_model.FaceModel(image_size='112,112', model = '../models/model-r100-ii', ga_model = '../models/model-r100-ii', gpu = 0, det = 0, flip = 0,threshold=1.24)\n",
    "img = cv2.imread('Tom_Hanks_54745.png')\n",
    "img = model.get_input(img)\n",
    "f1 = model.get_feature(img)\n",
    "\n",
    "img2 = cv2.imread('barack2.jpg')\n",
    "img2 = model.get_input(img2)\n",
    "f2 = model.get_feature(img2)\n",
    "#print(f1[0:10])\n",
    "#gender, age = model.get_ga(img)\n",
    "#print(gender)\n",
    "#print(age)\n",
    "#sys.exit(0)\n",
    "#img = cv2.imread('/raid5data/dplearn/megaface/facescrubr/112x112/Tom_Hanks/Tom_Hanks_54733.png')\n",
    "#f2 = model.get_feature(img)\n",
    "dist = np.sum(np.square(f1-f2))\n",
    "#print(f2)\n",
    "print(dist)\n",
    "'''\n",
    "import json\n",
    "#print(json.dumps(f2))\n",
    "features = {}\n",
    "for i in range(len(f2)):\n",
    "    features['feature'+str(i)] = str(f2[i])\n",
    "app_json = json.dumps(features)\n",
    "print(app_json)\n",
    "'''\n",
    "#sim = np.dot(f1, f2.T)\n",
    "#print(sim)\n",
    "#diff = np.subtract(source_feature, target_feature)\n",
    "#dist = np.sum(np.square(diff),1)\n"
   ]
  },
  {
   "cell_type": "code",
   "execution_count": null,
   "metadata": {},
   "outputs": [],
   "source": []
  },
  {
   "cell_type": "code",
   "execution_count": 24,
   "metadata": {
    "colab": {
     "base_uri": "https://localhost:8080/",
     "height": 1000
    },
    "colab_type": "code",
    "executionInfo": {
     "elapsed": 3363,
     "status": "ok",
     "timestamp": 1568629524312,
     "user": {
      "displayName": "Mahim Anzum Haque pantho",
      "photoUrl": "https://lh3.googleusercontent.com/a-/AAuE7mD2lkgdC-M_53HbDklxXbBN0K9q5UMGVQMUi_3gQQ=s64",
      "userId": "07659887497514272211"
     },
     "user_tz": -360
    },
    "id": "_XS-VJSrtKak",
    "outputId": "384a3e62-80d0-4183-c6a7-08674f0917ac"
   },
   "outputs": [
    {
     "name": "stdout",
     "output_type": "stream",
     "text": [
      "comes\n",
      "{'image_size': '112,112', 'model': '../models/model-r100-ii/model, 0', 'ga_model': '../models/gamodel-r50/model,0', 'gpu': 0, 'det': 0, 'flip': 0, 'threshold': 1.24}\n",
      "_vec =  ['../models/model-r100-ii/model', ' 0']\n",
      "loading ../models/model-r100-ii/model 0\n",
      "_vec =  ['../models/gamodel-r50/model', '0']\n",
      "loading ../models/gamodel-r50/model 0\n",
      "0.7172673\n"
     ]
    },
    {
     "data": {
      "text/plain": [
       "\"\\nimport json\\n#print(json.dumps(f2))\\nfeatures = {}\\nfor i in range(len(f2)):\\n    features['feature'+str(i)] = str(f2[i])\\napp_json = json.dumps(features)\\nprint(app_json)\\n\""
      ]
     },
     "execution_count": 24,
     "metadata": {},
     "output_type": "execute_result"
    }
   ],
   "source": [
    "import face_model\n",
    "import argparse\n",
    "import cv2\n",
    "import sys\n",
    "import numpy as np\n",
    "import mxnet\n",
    "import easydict\n",
    "\n",
    "\n",
    "parser = argparse.ArgumentParser(description='face model test')\n",
    "# general\n",
    "\n",
    "parser.add_argument('--image_size', default='112,112', help='')\n",
    "parser.add_argument('--model', default='../models/model-r100-ii/', help='path to load model.')\n",
    "parser.add_argument('--ga_model', default='../models/model-r100-ii/', help='path to load model.')\n",
    "parser.add_argument('--gpu', default=0, type=int, help='gpu id')\n",
    "parser.add_argument('--det', default=0, type=int, help='mtcnn option, 1 means using R+O, 0 means detect from begining')\n",
    "parser.add_argument('--flip', default=0, type=int, help='whether do lr flip aug')\n",
    "parser.add_argument('--threshold', default=1.24, type=float, help='ver dist threshold')\n",
    "\n",
    "\n",
    "args = easydict.EasyDict(\n",
    "{\n",
    "    \"image_size\": '112,112',\n",
    "    \"model\": '../models/model-r100-ii/model, 0',\n",
    "    \"ga_model\": '../models/gamodel-r50/model,0',\n",
    "    \"gpu\": 0,\n",
    "    \"det\": 0,\n",
    "    \"flip\": 0,\n",
    "    \"threshold\": 1.24\n",
    "})\n",
    "\n",
    "\n",
    "#args = parser.parse_args()\n",
    "print(\"comes\")\n",
    "print(args)\n",
    "model = face_model.FaceModel(args)\n",
    "#model = facre_model.FaceModel(image_size='112,112', model = '../models/model-r100-ii', ga_model = '../models/model-r100-ii', gpu = 0, det = 0, flip = 0,threshold=1.24)\n",
    "img = cv2.imread('Tom_Hanks_54745.png')\n",
    "img = model.get_input(img)\n",
    "f1 = model.get_feature(img)\n",
    "\n",
    "img2 = cv2.imread('tom-hanks.jpg')\n",
    "img2 = model.get_input(img2)\n",
    "f2 = model.get_feature(img2)\n",
    "#print(f1[0:10])\n",
    "#gender, age = model.get_ga(img)\n",
    "#print(gender)\n",
    "#print(age)\n",
    "#sys.exit(0)\n",
    "#img = cv2.imread('/raid5data/dplearn/megaface/facescrubr/112x112/Tom_Hanks/Tom_Hanks_54733.png')\n",
    "#f2 = model.get_feature(img)\n",
    "dist = np.sum(np.square(f1-f2))\n",
    "#print(f2)\n",
    "print(dist)\n",
    "'''\n",
    "import json\n",
    "#print(json.dumps(f2))\n",
    "features = {}\n",
    "for i in range(len(f2)):\n",
    "    features['feature'+str(i)] = str(f2[i])\n",
    "app_json = json.dumps(features)\n",
    "print(app_json)\n",
    "'''\n",
    "#sim = np.dot(f1, f2.T)\n",
    "#print(sim)\n",
    "#diff = np.subtract(source_feature, target_feature)\n",
    "#dist = np.sum(np.square(diff),1)\n"
   ]
  },
  {
   "cell_type": "code",
   "execution_count": null,
   "metadata": {},
   "outputs": [],
   "source": []
  },
  {
   "cell_type": "code",
   "execution_count": null,
   "metadata": {},
   "outputs": [],
   "source": []
  },
  {
   "cell_type": "code",
   "execution_count": 25,
   "metadata": {},
   "outputs": [
    {
     "name": "stdout",
     "output_type": "stream",
     "text": [
      "comes\n",
      "{'image_size': '112,112', 'model': '../models/model-r100-ii/model, 0', 'ga_model': '../models/gamodel-r50/model,0', 'gpu': 0, 'det': 0, 'flip': 0, 'threshold': 1.24}\n",
      "_vec =  ['../models/model-r100-ii/model', ' 0']\n",
      "loading ../models/model-r100-ii/model 0\n",
      "_vec =  ['../models/gamodel-r50/model', '0']\n",
      "loading ../models/gamodel-r50/model 0\n",
      "1\n",
      "58\n",
      "[ 5.36757568e-03  6.13620766e-02 -3.15602720e-02  2.24291738e-02\n",
      "  3.90084758e-02 -8.33886638e-02 -7.17849098e-03 -4.53031734e-02\n",
      "  2.95484420e-02 -3.89336236e-02  4.00331952e-02  3.79060581e-03\n",
      " -8.47499445e-02  4.31507267e-02  8.18946138e-02  1.40126608e-03\n",
      " -9.58520174e-03  2.95183882e-02 -4.85827886e-02  1.80503186e-02\n",
      " -1.06303878e-01 -2.75947209e-02 -1.70632079e-02 -1.64642408e-02\n",
      " -2.42060386e-02  1.70938540e-02 -1.25528919e-02 -2.27704328e-02\n",
      " -7.09983706e-02  1.97239174e-03 -7.27824345e-02  2.91754361e-02\n",
      "  1.12266755e-02 -6.19911253e-02 -7.71922767e-02  1.18447822e-02\n",
      " -3.11453715e-02 -2.61993334e-02 -1.66244972e-02  2.37549227e-02\n",
      " -2.69994736e-02 -4.02849764e-02 -1.90078299e-02 -7.97419623e-02\n",
      "  5.55577241e-02  2.54902262e-02 -8.16540271e-02  9.44929570e-03\n",
      " -2.72735432e-02 -7.62118213e-03 -6.67825416e-02  2.33727694e-02\n",
      "  1.83338430e-04  1.54456799e-03  9.82249752e-02 -2.70266533e-02\n",
      " -3.72378267e-02 -7.99940601e-02  4.94159125e-02 -1.00095039e-02\n",
      "  5.12814857e-02 -6.37053624e-02  1.67283602e-02 -6.89007118e-02\n",
      " -4.78430539e-02 -2.74930149e-02 -3.36528453e-03  2.48354394e-02\n",
      "  1.91071369e-02  4.76698987e-02 -1.23402908e-01 -1.37758004e-02\n",
      "  4.57909890e-03  5.36726639e-02 -3.39959227e-02  5.76686151e-02\n",
      "  5.27432747e-02 -1.30213024e-02 -1.73789803e-02  3.43755595e-02\n",
      "  3.15874740e-02 -4.60027643e-02  8.76176059e-02 -1.60772614e-02\n",
      "  4.66892347e-02  6.80454150e-02 -4.18029204e-02  5.23255067e-03\n",
      " -3.22710089e-02 -7.45054185e-02 -3.84055078e-02 -3.71487960e-02\n",
      " -2.14466825e-03 -6.22057989e-02 -2.68495996e-02  2.36873105e-02\n",
      " -5.11539429e-02 -1.07528254e-01 -4.16224338e-02 -4.09529470e-02\n",
      "  3.69460583e-02 -1.77357309e-02 -5.23909628e-02 -4.47761919e-03\n",
      " -3.87023166e-02  7.90696871e-03  6.06404468e-02  2.60103233e-02\n",
      "  1.43922772e-03  4.34369408e-02  1.69796068e-02  2.45859823e-03\n",
      " -3.75881791e-02 -1.66387539e-02  2.46780869e-02 -1.65295452e-02\n",
      " -1.63757894e-02  1.43922586e-02 -1.95595492e-02  9.10631567e-02\n",
      " -2.93787364e-02  4.96442728e-02  1.05388127e-02  2.62255464e-02\n",
      "  6.33253437e-03 -2.24224348e-02 -4.01722081e-02 -7.27263018e-02\n",
      "  2.00540293e-02  1.42509979e-03 -1.73270144e-03 -5.82759306e-02\n",
      " -7.06361234e-02  3.96246687e-02 -5.28307147e-02  2.00331621e-02\n",
      " -7.61791244e-02  2.36042822e-03 -2.68779974e-03 -5.43342493e-02\n",
      " -6.81991084e-03  3.47083844e-02 -5.28150995e-04 -5.19505925e-02\n",
      "  5.42140529e-02 -1.60082970e-02 -6.11772295e-04  4.50400822e-03\n",
      "  2.19178461e-02 -7.54727349e-02 -6.02230579e-02 -1.58920623e-02\n",
      " -5.55656217e-02  4.03810181e-02 -4.06168401e-02 -6.47411719e-02\n",
      "  6.55256733e-02  4.13140431e-02  2.08941475e-02 -1.59614254e-02\n",
      " -5.74568193e-03  6.58024773e-02 -3.85710085e-03 -3.21295410e-02\n",
      " -6.98604584e-02 -3.91157344e-02  1.21667841e-02  8.69397540e-03\n",
      " -1.01241417e-01  5.20122657e-03  2.30601318e-02  1.40339047e-01\n",
      "  7.31526222e-03 -1.70314626e-03 -3.89090320e-03 -1.03508510e-01\n",
      "  3.31091546e-02 -6.14573956e-02  2.90009100e-02  3.47813033e-02\n",
      " -2.49978323e-02 -1.22815715e-02  1.10152597e-02 -2.08431296e-02\n",
      "  1.74036752e-02 -7.20437765e-02  7.74961635e-02  5.65538220e-02\n",
      "  3.70172895e-02  8.10656790e-03 -4.93934155e-02 -2.06267480e-02\n",
      " -5.30757010e-02 -3.13010775e-02  2.53969189e-02 -3.97855882e-03\n",
      " -3.95417251e-02 -1.60989538e-02  5.25579415e-02  1.69219915e-02\n",
      "  2.12415209e-04 -1.70276519e-02 -1.22005129e-02 -5.10985032e-02\n",
      "  2.88097803e-02  6.96196333e-02  4.53684945e-03 -7.65487999e-02\n",
      "  7.26254582e-02  2.16075554e-02  2.58506779e-02  6.02176297e-04\n",
      " -2.00861786e-02  1.60148162e-02  3.95685062e-03  6.47481764e-03\n",
      "  3.48011702e-02 -9.76183079e-03 -2.93775257e-02  1.36014819e-02\n",
      " -3.03930161e-03  1.02632411e-01  8.09756890e-02 -1.04453720e-01\n",
      " -2.37815399e-02 -2.48904917e-02  2.51796748e-02  2.64787879e-02\n",
      " -4.39527910e-03 -4.79225703e-02 -6.61833510e-02  6.20977543e-02\n",
      " -3.47397625e-02 -4.04194146e-02  6.65669814e-02 -6.24732673e-03\n",
      "  3.02134659e-02 -5.15173934e-02 -7.92744383e-03  2.09744927e-02\n",
      "  5.06524043e-03 -8.27763323e-03  7.63180032e-02 -3.23977880e-02\n",
      "  7.68697588e-04  3.16237025e-02  2.25515328e-02  4.11883146e-02\n",
      " -5.65719865e-02  5.23299500e-02  1.60569400e-02 -2.31983848e-02\n",
      " -1.36422347e-02  1.59550942e-02  1.34396702e-02  5.80050759e-02\n",
      " -1.68867782e-02  2.24298555e-02 -2.25618631e-02 -1.16219437e-02\n",
      " -9.90027282e-03 -3.83954197e-02 -2.46592127e-02  1.10237496e-02\n",
      " -3.53483297e-02  2.95021087e-02 -1.46500524e-02  4.41004336e-02\n",
      "  7.70308301e-02 -2.52689216e-02 -1.36895180e-02  4.27124985e-02\n",
      "  3.58909704e-02  2.69065350e-02 -1.38237886e-03  5.92771731e-02\n",
      " -4.12350101e-03 -3.82444225e-02 -8.32865667e-03  5.80278225e-03\n",
      " -3.98572013e-02  6.84534851e-03  5.94739849e-03 -2.12451648e-02\n",
      " -7.24614263e-02  1.39062274e-02 -3.46608460e-02  2.93255467e-02\n",
      "  2.43357848e-02  7.37494379e-02 -5.20768762e-02 -2.50418913e-02\n",
      "  4.02811617e-02  2.27858424e-02 -2.37086248e-02 -5.37836784e-03\n",
      "  8.27727914e-02  3.78714688e-02 -6.45986944e-02  2.26075128e-02\n",
      "  2.37573534e-02  4.68898676e-02  4.91960123e-02 -4.55896743e-02\n",
      " -2.22555306e-02  1.37577076e-02  6.29129708e-02 -3.91447637e-03\n",
      " -7.26020187e-02 -3.28497812e-02 -1.85980205e-03  1.46911377e-02\n",
      " -2.42141765e-02 -8.18980262e-02 -3.50309499e-02 -5.57580357e-03\n",
      " -1.99408010e-02 -4.25477549e-02  7.34054372e-02 -1.33649614e-02\n",
      "  1.36327092e-03 -6.67242259e-02 -5.12921847e-02  7.37898573e-02\n",
      "  1.41880941e-02 -6.78725615e-02 -7.07490668e-02  2.80177146e-02\n",
      " -1.68737788e-02  1.13329366e-01 -5.87018318e-02 -4.00370695e-02\n",
      " -2.38625379e-03 -3.28613855e-02 -1.61496866e-02 -3.24879773e-02\n",
      " -2.09842473e-02 -2.35439576e-02  5.51920049e-02 -3.67281251e-02\n",
      " -3.80470715e-02  1.36325508e-01 -1.76574346e-02  1.17501328e-02\n",
      " -1.86089589e-03 -7.02260509e-02  5.99385574e-02 -6.85389787e-02\n",
      " -6.31282553e-02 -1.84423290e-02  2.40977407e-02  1.03229824e-02\n",
      "  5.52824624e-02 -1.96924526e-02  3.26696970e-02 -6.21284507e-02\n",
      "  5.34685589e-02 -2.40925439e-02 -5.31674828e-03 -2.08129473e-02\n",
      " -1.28585903e-03 -1.82859618e-02 -7.26035759e-02 -4.03769352e-02\n",
      "  6.78657517e-02 -1.10178692e-02 -2.53667764e-04  9.28518176e-03\n",
      "  2.87511311e-02 -1.09055517e-02  6.03988841e-02 -1.15935795e-01\n",
      " -5.10709994e-02  4.29647453e-02 -2.73356810e-02 -1.09386668e-01\n",
      "  9.34019387e-02 -6.35134876e-02 -3.22904848e-02 -2.65953746e-02\n",
      "  8.67770836e-02 -8.05580541e-02 -5.18087707e-02 -3.59895686e-03\n",
      " -4.74788211e-02 -1.16042196e-04 -9.98364761e-03 -2.00292096e-02\n",
      "  4.02917676e-02 -9.49133281e-03  2.40342412e-02  3.85248996e-02\n",
      " -1.51612414e-02  4.02143374e-02  9.86241922e-02 -6.66851401e-02\n",
      " -1.48584824e-02 -2.31501311e-02 -7.82221369e-03 -1.29609425e-02\n",
      " -3.45107689e-02 -5.64877503e-02 -2.40768846e-02 -5.54827079e-02\n",
      "  9.70441755e-03  3.91669646e-02 -4.56805304e-02 -3.25620063e-02\n",
      "  1.98940653e-02  1.53547097e-02 -6.80917352e-02  7.88077638e-02\n",
      " -1.89773329e-02  4.67752479e-02 -3.83038968e-02  1.77899059e-02\n",
      " -2.07591876e-02  2.06968579e-02  6.38427287e-02  4.88726646e-02\n",
      "  1.75061580e-02  9.74104702e-02 -7.81063875e-03 -4.81838873e-03\n",
      " -6.59201369e-02  1.01414928e-02  4.40728590e-02 -3.88766974e-02\n",
      " -4.23773676e-02 -1.14355693e-02  1.15578007e-02 -6.79386333e-02\n",
      "  2.51173396e-02  6.73337430e-02 -5.92909306e-02 -2.87327319e-02\n",
      "  1.90485716e-02 -7.13182986e-02  6.01448352e-03  6.84192288e-04\n",
      "  4.54300502e-03  3.59143168e-02  1.80767123e-02 -5.51480129e-02\n",
      " -6.08627424e-02 -3.41986753e-02 -4.04986553e-02 -4.92584668e-02\n",
      " -1.19861346e-02  1.58861876e-02  4.39063124e-02  3.34049985e-02\n",
      "  2.91276854e-02  9.61258262e-03  4.11178842e-02  4.50549386e-02\n",
      "  2.41305772e-03 -2.32086657e-03 -3.70250903e-02 -3.43486071e-02\n",
      " -3.91896702e-02 -4.09999751e-02  1.10336840e-01 -4.04140688e-02\n",
      " -8.17551557e-03 -2.25863531e-02  1.93121303e-02 -3.15701566e-03\n",
      "  4.29775417e-02  6.47597238e-02  1.89586803e-02  4.57282960e-02\n",
      "  4.13778163e-02 -1.56881064e-02  3.91868167e-02  3.32296528e-02\n",
      "  1.17463497e-02 -2.52978951e-02  4.38787267e-02  9.44819450e-02\n",
      " -4.96799648e-02  1.60235986e-02 -6.85089314e-03  3.43800150e-02\n",
      "  7.76162967e-02 -8.63673687e-02  2.36918889e-02  3.46824415e-02\n",
      "  4.51468192e-02  4.92590517e-02  1.83531567e-02 -4.54883352e-02\n",
      "  2.89630927e-02 -1.39020896e-03  4.73621897e-02 -3.82321514e-02\n",
      " -1.58451423e-02 -7.56901056e-02 -2.11847626e-04  1.93996206e-02\n",
      " -1.25393141e-02 -2.44584624e-02  1.70811061e-02 -2.79313568e-02\n",
      "  1.71079359e-03  1.20198973e-01  3.52036506e-02 -1.92000531e-02\n",
      " -5.60465753e-02  7.70557299e-03  3.12118791e-02 -5.35542928e-02]\n",
      "512\n"
     ]
    }
   ],
   "source": [
    "import face_model\n",
    "import argparse\n",
    "import cv2\n",
    "import sys\n",
    "import numpy as np\n",
    "import mxnet\n",
    "import easydict\n",
    "\n",
    "parser = argparse.ArgumentParser(description='face model test')\n",
    "# general\n",
    "\n",
    "parser.add_argument('--image_size', default='112,112', help='')\n",
    "parser.add_argument('--model', default='../models/model-r100-ii/', help='path to load model.')\n",
    "parser.add_argument('--ga_model', default='../models/model-r100-ii/', help='path to load model.')\n",
    "parser.add_argument('--gpu', default=0, type=int, help='gpu id')\n",
    "parser.add_argument('--det', default=0, type=int, help='mtcnn option, 1 means using R+O, 0 means detect from begining')\n",
    "parser.add_argument('--flip', default=0, type=int, help='whether do lr flip aug')\n",
    "parser.add_argument('--threshold', default=1.24, type=float, help='ver dist threshold')\n",
    "\n",
    "\n",
    "args = easydict.EasyDict(\n",
    "{\n",
    "    \"image_size\": '112,112',\n",
    "    \"model\": '../models/model-r100-ii/model, 0',\n",
    "    \"ga_model\": '../models/gamodel-r50/model,0',\n",
    "    \"gpu\": 0,\n",
    "    \"det\": 0,\n",
    "    \"flip\": 0,\n",
    "    \"threshold\": 1.24\n",
    "})\n",
    "\n",
    "\n",
    "#args = parser.parse_args()\n",
    "print(\"comes\")\n",
    "print(args)\n",
    "model = face_model.FaceModel(args)\n",
    "#model = face_model.FaceModel(image_size='112,112', model = '../models/model-r100-ii', ga_model = '../models/model-r100-ii', gpu = 0, det = 0, flip = 0,threshold=1.24)\n",
    "img = cv2.imread('tom-hanks.jpg')\n",
    "img = model.get_input(img)\n",
    "#f1 = model.get_feature(img)\n",
    "#print(f1[0:10])\n",
    "gender, age = model.get_ga(img)\n",
    "print(gender)\n",
    "print(age)\n",
    "#sys.exit(0)\n",
    "#img = cv2.imread('/raid5data/dplearn/megaface/facescrubr/112x112/Tom_Hanks/Tom_Hanks_54733.png')\n",
    "f2 = model.get_feature(img)\n",
    "#dist = np.sum(np.square(f1-f2))\n",
    "print(f2)\n",
    "print(len(f2))\n",
    "#sim = np.dot(f1, f2.T)\n",
    "#print(sim)\n",
    "#diff = np.subtract(source_feature, target_feature)\n",
    "#dist = np.sum(np.square(diff),1)\n"
   ]
  },
  {
   "cell_type": "code",
   "execution_count": null,
   "metadata": {},
   "outputs": [],
   "source": [
    "import face_model\n",
    "import argparse\n",
    "import cv2\n",
    "import sys\n",
    "import numpy as np\n",
    "import mxnet\n",
    "import easydict\n",
    "import json\n",
    "\n",
    "parser = argparse.ArgumentParser(description='face model test')\n",
    "# general\n",
    "\n",
    "parser.add_argument('--image_size', default='112,112', help='')\n",
    "parser.add_argument('--model', default='../models/model-r100-ii/', help='path to load model.')\n",
    "parser.add_argument('--ga_model', default='../models/model-r100-ii/', help='path to load model.')\n",
    "parser.add_argument('--gpu', default=0, type=int, help='gpu id')\n",
    "parser.add_argument('--det', default=0, type=int, help='mtcnn option, 1 means using R+O, 0 means detect from begining')\n",
    "parser.add_argument('--flip', default=0, type=int, help='whether do lr flip aug')\n",
    "parser.add_argument('--threshold', default=1.24, type=float, help='ver dist threshold')\n",
    "\n",
    "\n",
    "args = easydict.EasyDict(\n",
    "{\n",
    "    \"image_size\": '112,112',\n",
    "    \"model\": '../models/model-r100-ii/model, 0',\n",
    "    \"ga_model\": '../models/gamodel-r50/model,0',\n",
    "    \"gpu\": 0,\n",
    "    \"det\": 0,\n",
    "    \"flip\": 0,\n",
    "    \"threshold\": 1.24\n",
    "})\n",
    "def val():\n",
    "    model = face_model.FaceModel(args)\n",
    "    img = model.get_input(sys.argv[1])\n",
    "    f2 = model.get_feature(sys.argv[1])\n",
    "    features = {}\n",
    "    for i in range(len(f2)):\n",
    "        features['feature'+str(i)] = str(f2[i])\n",
    "    app_json = json.dumps(features)\n",
    "    #print(app_json)\n",
    "    return app_json\n",
    "\n",
    "if __name__ == \"__main__\":\n",
    "\tval()\n"
   ]
  },
  {
   "cell_type": "code",
   "execution_count": 0,
   "metadata": {
    "colab": {
     "base_uri": "https://localhost:8080/",
     "height": 68
    },
    "colab_type": "code",
    "executionInfo": {
     "elapsed": 6239,
     "status": "ok",
     "timestamp": 1568629406293,
     "user": {
      "displayName": "Mahim Anzum Haque pantho",
      "photoUrl": "https://lh3.googleusercontent.com/a-/AAuE7mD2lkgdC-M_53HbDklxXbBN0K9q5UMGVQMUi_3gQQ=s64",
      "userId": "07659887497514272211"
     },
     "user_tz": -360
    },
    "id": "9QLE2xxbve7e",
    "outputId": "ed06a6a1-6ef3-4ba7-f55d-144d9d5d2604"
   },
   "outputs": [
    {
     "name": "stdout",
     "output_type": "stream",
     "text": [
      " benchmark.py\t     ga_merge.py     mtcnn_detector.py\t'test (1).py'\n",
      " face_embedding.py   helper.py\t     mtcnn-model\t Tom_Hanks_54745.png\n",
      " face_model.py\t     model_slim.py   __pycache__\n"
     ]
    }
   ],
   "source": [
    "!ls\n",
    "#!python test (1).py"
   ]
  },
  {
   "cell_type": "code",
   "execution_count": 0,
   "metadata": {
    "colab": {
     "base_uri": "https://localhost:8080/",
     "height": 153
    },
    "colab_type": "code",
    "executionInfo": {
     "elapsed": 5651,
     "status": "ok",
     "timestamp": 1568628794549,
     "user": {
      "displayName": "Mahim Anzum Haque pantho",
      "photoUrl": "https://lh3.googleusercontent.com/a-/AAuE7mD2lkgdC-M_53HbDklxXbBN0K9q5UMGVQMUi_3gQQ=s64",
      "userId": "07659887497514272211"
     },
     "user_tz": -360
    },
    "id": "VRuwoIYpjSkK",
    "outputId": "4f1a7af8-d427-4659-d158-9e29939df7d1"
   },
   "outputs": [
    {
     "name": "stdout",
     "output_type": "stream",
     "text": [
      "Requirement already satisfied: mxnet-cu100 in /usr/local/lib/python3.6/dist-packages (1.5.0)\n",
      "Requirement already satisfied: graphviz<0.9.0,>=0.8.1 in /usr/local/lib/python3.6/dist-packages (from mxnet-cu100) (0.8.4)\n",
      "Requirement already satisfied: numpy<2.0.0,>1.16.0 in /usr/local/lib/python3.6/dist-packages (from mxnet-cu100) (1.16.5)\n",
      "Requirement already satisfied: requests<3,>=2.20.0 in /usr/local/lib/python3.6/dist-packages (from mxnet-cu100) (2.21.0)\n",
      "Requirement already satisfied: urllib3<1.25,>=1.21.1 in /usr/local/lib/python3.6/dist-packages (from requests<3,>=2.20.0->mxnet-cu100) (1.24.3)\n",
      "Requirement already satisfied: idna<2.9,>=2.5 in /usr/local/lib/python3.6/dist-packages (from requests<3,>=2.20.0->mxnet-cu100) (2.8)\n",
      "Requirement already satisfied: chardet<3.1.0,>=3.0.2 in /usr/local/lib/python3.6/dist-packages (from requests<3,>=2.20.0->mxnet-cu100) (3.0.4)\n",
      "Requirement already satisfied: certifi>=2017.4.17 in /usr/local/lib/python3.6/dist-packages (from requests<3,>=2.20.0->mxnet-cu100) (2019.6.16)\n"
     ]
    }
   ],
   "source": [
    "pip install mxnet-cu100"
   ]
  },
  {
   "cell_type": "code",
   "execution_count": 0,
   "metadata": {
    "colab": {
     "base_uri": "https://localhost:8080/",
     "height": 214
    },
    "colab_type": "code",
    "executionInfo": {
     "elapsed": 2682,
     "status": "error",
     "timestamp": 1568628554056,
     "user": {
      "displayName": "Mahim Anzum Haque pantho",
      "photoUrl": "https://lh3.googleusercontent.com/a-/AAuE7mD2lkgdC-M_53HbDklxXbBN0K9q5UMGVQMUi_3gQQ=s64",
      "userId": "07659887497514272211"
     },
     "user_tz": -360
    },
    "id": "TKsdUuxTini0",
    "outputId": "5c0ebed6-76ef-4145-cf8e-74bdc8a3499d"
   },
   "outputs": [
    {
     "name": "stderr",
     "output_type": "stream",
     "text": [
      "usage: ipykernel_launcher.py [-h] [--image-size IMAGE_SIZE] [--model MODEL]\n",
      "                             [--ga-model GA_MODEL] [--gpu GPU] [--det DET]\n",
      "                             [--flip FLIP] [--threshold THRESHOLD]\n",
      "ipykernel_launcher.py: error: unrecognized arguments: -f /root/.local/share/jupyter/runtime/kernel-99f8610e-25b0-43c2-bbaa-b41e90f241fc.json\n"
     ]
    },
    {
     "ename": "SystemExit",
     "evalue": "ignored",
     "output_type": "error",
     "traceback": [
      "An exception has occurred, use %tb to see the full traceback.\n",
      "\u001b[0;31mSystemExit\u001b[0m\u001b[0;31m:\u001b[0m 2\n"
     ]
    },
    {
     "name": "stderr",
     "output_type": "stream",
     "text": [
      "/usr/local/lib/python3.6/dist-packages/IPython/core/interactiveshell.py:2890: UserWarning: To exit: use 'exit', 'quit', or Ctrl-D.\n",
      "  warn(\"To exit: use 'exit', 'quit', or Ctrl-D.\", stacklevel=1)\n"
     ]
    }
   ],
   "source": [
    "import face_model\n",
    "import argparse\n",
    "import cv2\n",
    "import sys\n",
    "import numpy as np\n",
    "\n",
    "parser = argparse.ArgumentParser(description='face model test')\n",
    "# general\n",
    "parser.add_argument('--image-size', default='112,112', help='')\n",
    "parser.add_argument('--model', default='../models/model-r100-ii/model,0', help='path to load model.')\n",
    "parser.add_argument('--ga-model', default='../models/gamodel-r40/model,0', help='path to load model.')\n",
    "parser.add_argument('--gpu', default=0, type=int, help='gpu id')\n",
    "parser.add_argument('--det', default=0, type=int, help='mtcnn option, 1 means using R+O, 0 means detect from begining')\n",
    "parser.add_argument('--flip', default=0, type=int, help='whether do lr flip aug')\n",
    "parser.add_argument('--threshold', default=1.24, type=float, help='ver dist threshold')\n",
    "args = parser.parse_args()\n",
    "print(args)\n",
    "model = face_model.FaceModel(args)\n",
    "img = cv2.imread('Tom_Hanks_54745.png')\n",
    "img = model.get_input(img)\n",
    "f1 = model.get_feature(img)\n",
    "print(f1[0:10])\n",
    "gender, age = model.get_ga(img)\n",
    "#print(gender)\n",
    "#print(age)\n",
    "#sys.exit(0)\n",
    "#img = cv2.imread('/raid5data/dplearn/megaface/facescrubr/112x112/Tom_Hanks/Tom_Hanks_54733.png')\n",
    "#f2 = model.get_feature(img)\n",
    "#dist = np.sum(np.square(f1-f2))\n",
    "#print(dist)\n",
    "#sim = np.dot(f1, f2.T)\n",
    "#print(sim)\n",
    "#diff = np.subtract(source_feature, target_feature)\n",
    "#dist = np.sum(np.square(diff),1)\n"
   ]
  },
  {
   "cell_type": "code",
   "execution_count": 0,
   "metadata": {
    "colab": {},
    "colab_type": "code",
    "id": "TKMwj6UEjCuT"
   },
   "outputs": [],
   "source": []
  }
 ],
 "metadata": {
  "accelerator": "GPU",
  "colab": {
   "name": "arc_face.ipynb",
   "provenance": [],
   "version": "0.3.2"
  },
  "kernelspec": {
   "display_name": "Python 3",
   "language": "python",
   "name": "python3"
  },
  "language_info": {
   "codemirror_mode": {
    "name": "ipython",
    "version": 3
   },
   "file_extension": ".py",
   "mimetype": "text/x-python",
   "name": "python",
   "nbconvert_exporter": "python",
   "pygments_lexer": "ipython3",
   "version": "3.7.4"
  }
 },
 "nbformat": 4,
 "nbformat_minor": 1
}
